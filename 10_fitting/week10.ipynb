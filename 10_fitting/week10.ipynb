{
 "cells": [
  {
   "cell_type": "markdown",
   "metadata": {},
   "source": [
    "# Week 10: Model fitting\n",
    "\n",
    "This week's learning goals are as follows:\n",
    "\n",
    "1. Learn linear regression.\n",
    "1. Learn how to fit models in Python.\n",
    "\n",
    "We are following the GNUplot-based blog post here: http://furan5.blogspot.com/2015/01/fitting-michaelis-menten-equation-to.html"
   ]
  },
  {
   "cell_type": "code",
   "execution_count": 1,
   "metadata": {},
   "outputs": [],
   "source": [
    "# the following code guarantees you'll properly reload any modules that you custom-defined in your environment.\n",
    "# you don't need to understand it.\n",
    "# just run this once at the beginning.\n",
    "# for auto-reloading external modules\n",
    "# see http://stackoverflow.com/questions/1907993/autoreload-of-modules-in-ipython\n",
    "%load_ext autoreload\n",
    "%autoreload 2\n",
    "import os\n",
    "import sys\n",
    "import numpy as np\n",
    "import csv\n",
    "import matplotlib as mpl\n",
    "import matplotlib.pyplot as plt"
   ]
  },
  {
   "cell_type": "code",
   "execution_count": 36,
   "metadata": {},
   "outputs": [],
   "source": [
    "substrates, rates = [], []\n",
    "with open(os.path.join('csvs', 'enzyme.csv'), 'r') as f:\n",
    "    for tup in csv.reader(f, delimiter=','):\n",
    "        substrates.append(float(tup[0]))\n",
    "        rates.append(float(tup[1]))\n",
    "sort_inds = np.argsort(substrates)\n",
    "substrates = np.array(substrates)[sort_inds]\n",
    "rates = np.array(rates)[sort_inds]\n"
   ]
  },
  {
   "cell_type": "code",
   "execution_count": 37,
   "metadata": {},
   "outputs": [
    {
     "name": "stdout",
     "output_type": "stream",
     "text": [
      "substrate (M) [0.25 0.25 0.5  0.5  1.   1.   2.   2.   3.   3.   4.   4.   9.   9.  ]\n",
      "rates (M/sec) [0.2005 0.2005 0.3139 0.3139 0.5085 0.5085 0.749  0.749  0.7016 0.7016\n",
      " 0.906  0.906  0.944  0.944 ]\n"
     ]
    }
   ],
   "source": [
    "substrate_label = 'substrate (M)'\n",
    "rate_label = 'rates (M/sec)'\n",
    "print(substrate_label, substrates)\n",
    "print(rate_label, rates)"
   ]
  },
  {
   "cell_type": "code",
   "execution_count": 44,
   "metadata": {},
   "outputs": [
    {
     "data": {
      "text/plain": [
       "Text(0.5,1,'Michaelis-Menten enzyme kinetics')"
      ]
     },
     "execution_count": 44,
     "metadata": {},
     "output_type": "execute_result"
    },
    {
     "data": {
      "image/png": "[encoded data removed]",
      "text/plain": [
       "<Figure size 432x288 with 1 Axes>"
      ]
     },
     "metadata": {},
     "output_type": "display_data"
    }
   ],
   "source": [
    "fig = plt.figure(0)\n",
    "ax = plt.gca()\n",
    "ax.scatter(substrates, rates)\n",
    "ax.set_xlabel(substrate_label)\n",
    "ax.set_ylabel(rate_label)\n",
    "ax.set_title('Michaelis-Menten enzyme kinetics')"
   ]
  },
  {
   "cell_type": "markdown",
   "metadata": {},
   "source": [
    "Use SciPy's curve fitting library\n",
    "https://docs.scipy.org/doc/scipy/reference/generated/scipy.optimize.curve_fit.html"
   ]
  },
  {
   "cell_type": "code",
   "execution_count": 11,
   "metadata": {},
   "outputs": [],
   "source": [
    "from scipy.optimize import curve_fit"
   ]
  },
  {
   "cell_type": "code",
   "execution_count": 26,
   "metadata": {},
   "outputs": [],
   "source": [
    "def mm_eq(x, a, b):\n",
    "    return (a*x)/(x+b)"
   ]
  },
  {
   "cell_type": "code",
   "execution_count": 49,
   "metadata": {},
   "outputs": [
    {
     "name": "stdout",
     "output_type": "stream",
     "text": [
      "parameters [1.07842629 1.1099902 ]\n",
      "pcov [[0.00178987 0.00511856]\n",
      " [0.00511856 0.01969837]]\n"
     ]
    },
    {
     "data": {
      "text/plain": [
       "Text(0.5,1,'Michaelis-Menten enzyme kinetics')"
      ]
     },
     "execution_count": 49,
     "metadata": {},
     "output_type": "execute_result"
    },
    {
     "data": {
      "image/png": "[encoded data removed]",
      "text/plain": [
       "<Figure size 432x288 with 1 Axes>"
      ]
     },
     "metadata": {},
     "output_type": "display_data"
    }
   ],
   "source": [
    "popt, pcov = curve_fit(mm_eq, substrates, rates)\n",
    "print('parameters', popt)\n",
    "print('pcov', pcov)\n",
    "\n",
    "fig = plt.figure(0)\n",
    "ax = plt.gca()\n",
    "ax.scatter(substrates, rates)\n",
    "ax.set_xlabel(substrate_label)\n",
    "ax.set_ylabel(rate_label)\n",
    "ax.set_title('Michaelis-Menten enzyme kinetics')\n",
    "ax.plot(substrates, mm_eq(substrates, *popt), 'r-',\n",
    "        label='fit: a=%5.3f, b=%5.3f' % tuple(popt))\n",
    "ax.set_title('Michaelis-Menten enzyme kinetics')"
   ]
  }
 ],
 "metadata": {
  "kernelspec": {
   "display_name": "Python 3",
   "language": "python",
   "name": "python3"
  },
  "language_info": {
   "codemirror_mode": {
    "name": "ipython",
    "version": 3
   },
   "file_extension": ".py",
   "mimetype": "text/x-python",
   "name": "python",
   "nbconvert_exporter": "python",
   "pygments_lexer": "ipython3",
   "version": "3.6.5"
  }
 },
 "nbformat": 4,
 "nbformat_minor": 2
}
